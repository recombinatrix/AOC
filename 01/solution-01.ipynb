{
 "cells": [
  {
   "cell_type": "code",
   "execution_count": 71,
   "metadata": {},
   "outputs": [],
   "source": [
    "import numpy as np\n",
    "\n",
    "def ImportData(filename):\n",
    "    # fucntion to import data from a text file\n",
    "    data = np.loadtxt(filename)\n",
    "    return data"
   ]
  },
  {
   "cell_type": "code",
   "execution_count": 72,
   "metadata": {},
   "outputs": [],
   "source": [
    "#input the problem data as sonar\n",
    "sonar = ImportData(\"input\")\n",
    "#print(sonar.ndim)\n"
   ]
  },
  {
   "cell_type": "code",
   "execution_count": 73,
   "metadata": {},
   "outputs": [
    {
     "name": "stdout",
     "output_type": "stream",
     "text": [
      "[[ 164.  162.]\n",
      " [ 165.  164.]\n",
      " [ 166.  165.]\n",
      " ...\n",
      " [5063. 5058.]\n",
      " [5067. 5063.]\n",
      " [5068. 5067.]]\n"
     ]
    }
   ],
   "source": [
    "# turn sonar into a 2d array. \n",
    "# Column 0 will be all the sonar values in order, starting from the 1st value (ie skip the 0th)\n",
    "# Column 1 will  be all the sonar values in order, starting from the 0th value and skipping the final value\n",
    "# Then glue them together as a 2d array with each row being [   sonar[i]  ,  sonar[i-1]   ]\n",
    "\n",
    "#a1 = sonar[1:]\n",
    "#print(a1.ndim)\n",
    "#a2 = sonar[:-1]\n",
    "#print(a2.shape)\n",
    "\n",
    "a = np.column_stack((sonar[1:], sonar[:-1]))\n",
    "\n",
    "\n",
    "print(a)\n",
    "#print(a.shape)\n"
   ]
  },
  {
   "cell_type": "code",
   "execution_count": 74,
   "metadata": {},
   "outputs": [
    {
     "name": "stdout",
     "output_type": "stream",
     "text": [
      "1387\n"
     ]
    }
   ],
   "source": [
    "# make a variable to count how many times depth increases\n",
    " \n",
    "count = 0\n",
    "\n",
    "#iterate over the elements of a.  if a sonar element x[0] is greater than the preceeding sonar element x[1], increase the count by one \n",
    "for x in a:\n",
    "    #print(x[0])\n",
    "    #print(x[1])\n",
    "    if int(x[0]) > int(x[1]):\n",
    "        count = count + 1    \n",
    "\n",
    "# return the answer\n",
    "print(count)"
   ]
  }
 ],
 "metadata": {
  "interpreter": {
   "hash": "a7202df7b2dbabef45817816ca2a6ab065de8f426beee014e2af8b2b3a329bff"
  },
  "kernelspec": {
   "display_name": "Python 3.8.10 64-bit ('ada_analysis': conda)",
   "name": "python3"
  },
  "language_info": {
   "codemirror_mode": {
    "name": "ipython",
    "version": 3
   },
   "file_extension": ".py",
   "mimetype": "text/x-python",
   "name": "python",
   "nbconvert_exporter": "python",
   "pygments_lexer": "ipython3",
   "version": "3.8.10"
  },
  "orig_nbformat": 4
 },
 "nbformat": 4,
 "nbformat_minor": 2
}
