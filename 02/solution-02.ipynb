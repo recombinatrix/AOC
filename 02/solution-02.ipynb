{
 "cells": [
  {
   "cell_type": "code",
   "execution_count": 4,
   "metadata": {},
   "outputs": [],
   "source": [
    "import numpy as np\n",
    "\n",
    "def ImportData(filename):\n",
    "    # fucntion to import data from a text file\n",
    "    data = np.loadtxt(filename)\n",
    "    return data"
   ]
  },
  {
   "cell_type": "code",
   "execution_count": 5,
   "metadata": {},
   "outputs": [],
   "source": [
    "#input the problem data as sonar\n",
    "sonar = ImportData(\"input\")\n",
    "#print(sonar.ndim)\n"
   ]
  },
  {
   "cell_type": "code",
   "execution_count": 21,
   "metadata": {},
   "outputs": [
    {
     "name": "stdout",
     "output_type": "stream",
     "text": [
      "1362\n"
     ]
    }
   ],
   "source": [
    "# first we want to compute the running sum of each triple of values\n",
    "# so sonar[x] + sonar[x+1] + sonar[x+2]  \n",
    "# I'd really like to be able to iterate over the numpy array rather than building a new array\n",
    "\n",
    "# get the length of sonar\n",
    "n = sonar.shape[0]\n",
    "\n",
    "# want a rolling window three elements long, so we have n - 3 windows in total\n",
    "\n",
    "m = n - 3\n",
    "\n",
    "# we're going to iterate over all m windows, take the sum of a window and the sum of the next window, and see if the second window is larger than the first \n",
    "x = 0\n",
    "count = 0\n",
    "while x < m: \n",
    "    sum1st = sonar[x] + sonar[x+1] + sonar[x+2]\n",
    "    sum2nd = sonar[x+1] + sonar[x+2] + sonar[x+3]\n",
    "    #print(str(sum1st) + \" \" + str(sum2nd))\n",
    "    if sum1st < sum2nd:\n",
    "        count = count + 1\n",
    "    x += 1\n",
    "\n",
    "print(count)"
   ]
  },
  {
   "cell_type": "code",
   "execution_count": null,
   "metadata": {},
   "outputs": [],
   "source": [
    "# i'm sure there must by a way to iterate over a numpy array properly, but I can't figure out how to call all the different elements I want"
   ]
  }
 ],
 "metadata": {
  "interpreter": {
   "hash": "a7202df7b2dbabef45817816ca2a6ab065de8f426beee014e2af8b2b3a329bff"
  },
  "kernelspec": {
   "display_name": "Python 3.8.10 64-bit ('ada_analysis': conda)",
   "name": "python3"
  },
  "language_info": {
   "codemirror_mode": {
    "name": "ipython",
    "version": 3
   },
   "file_extension": ".py",
   "mimetype": "text/x-python",
   "name": "python",
   "nbconvert_exporter": "python",
   "pygments_lexer": "ipython3",
   "version": "3.8.10"
  },
  "orig_nbformat": 4
 },
 "nbformat": 4,
 "nbformat_minor": 2
}
